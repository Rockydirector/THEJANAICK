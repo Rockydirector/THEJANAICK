{
 "cells": [
  {
   "cell_type": "code",
   "execution_count": 1,
   "id": "8325d346",
   "metadata": {},
   "outputs": [
    {
     "name": "stdout",
     "output_type": "stream",
     "text": [
      "Enter image path: /home/rocky/Pictures/avengers_endgame_4k_hd_2-1920x1080.jpg\n",
      "Enter secret message: hello rocky\n",
      "Enter a passcode: 123\n",
      "Message successfully hidden in stego_output.png\n"
     ]
    }
   ],
   "source": [
    "import cv2\n",
    "def encode_message(img_path, message, password, output_path):\n",
    "    img = cv2.imread(img_path)\n",
    "    if img is None:\n",
    "        print(\"Error: Image not found!\")\n",
    "        return\n",
    "    message += '#####' \n",
    "    binary_message = ''.join(format(ord(char), '08b') for char in message)\n",
    "    h, w, _ = img.shape\n",
    "    message_length = len(binary_message)\n",
    "    if message_length > h * w * 3:\n",
    "        print(\"Message too long for this image!\")\n",
    "        return\n",
    "    index = 0\n",
    "    for row in range(h):\n",
    "        for col in range(w):\n",
    "            for channel in range(3):  \n",
    "                if index < message_length:\n",
    "                    img[row, col, channel] = (img[row, col, channel] & ~1) | int(binary_message[index])\n",
    "                    index += 1\n",
    "                else:\n",
    "                    break\n",
    "    cv2.imwrite(output_path, img)\n",
    "    print(f\"Message successfully hidden in {output_path}\")\n",
    "\n",
    "if __name__ == \"__main__\":\n",
    "    image_path = input(\"Enter image path: \")\n",
    "    message = input(\"Enter secret message: \")\n",
    "    password = input(\"Enter a passcode: \")\n",
    "    stego_image_path = \"stego_output.png\"\n",
    "    encode_message(image_path, message, password, stego_image_path)"
   ]
  },
  {
   "cell_type": "code",
   "execution_count": null,
   "id": "8fa0db8f",
   "metadata": {},
   "outputs": [],
   "source": []
  }
 ],
 "metadata": {
  "kernelspec": {
   "display_name": "Python 3 (ipykernel)",
   "language": "python",
   "name": "python3"
  },
  "language_info": {
   "codemirror_mode": {
    "name": "ipython",
    "version": 3
   },
   "file_extension": ".py",
   "mimetype": "text/x-python",
   "name": "python",
   "nbconvert_exporter": "python",
   "pygments_lexer": "ipython3",
   "version": "3.11.5"
  }
 },
 "nbformat": 4,
 "nbformat_minor": 5
}
