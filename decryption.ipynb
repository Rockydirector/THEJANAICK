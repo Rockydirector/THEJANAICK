{
 "cells": [
  {
   "cell_type": "code",
   "execution_count": 1,
   "id": "097d53ea",
   "metadata": {},
   "outputs": [
    {
     "name": "stdout",
     "output_type": "stream",
     "text": [
      "Enter stego image path: /home/rocky/stego_output.png\n",
      "Enter passcode for Decryption: 123\n",
      "Re-enter the passcode to confirm: 123\n",
      "Decrypted Message: hello rocky\n"
     ]
    }
   ],
   "source": [
    "import cv2\n",
    "\n",
    "def decode_message(stego_image_path, password):\n",
    "    img = cv2.imread(stego_image_path)\n",
    "    if img is None:\n",
    "        print(\"Error: Image not found!\")\n",
    "        return\n",
    "    binary_message = \"\"\n",
    "    h, w, _ = img.shape\n",
    "    for row in range(h):\n",
    "        for col in range(w):\n",
    "            for channel in range(3):\n",
    "                binary_message += str(img[row, col, channel] & 1)\n",
    "    message = \"\"\n",
    "    for i in range(0, len(binary_message), 8):\n",
    "        char = chr(int(binary_message[i:i+8], 2))\n",
    "        if message.endswith(\"#####\"):  \n",
    "            break\n",
    "        message += char\n",
    "    print(\"Decrypted Message:\", message.replace(\"#####\", \"\"))\n",
    "if __name__ == \"__main__\":\n",
    "    stego_image_path = input(\"Enter stego image path: \")\n",
    "    pas = input(\"Enter passcode for Decryption: \")\n",
    "    password = input(\"Re-enter the passcode to confirm: \")\n",
    "    if pas == password:\n",
    "        decode_message(stego_image_path, password)\n",
    "    else:\n",
    "        print(\"Wrong password! Access denied.\")"
   ]
  },
  {
   "cell_type": "code",
   "execution_count": null,
   "id": "e3447543",
   "metadata": {},
   "outputs": [],
   "source": []
  }
 ],
 "metadata": {
  "kernelspec": {
   "display_name": "Python 3 (ipykernel)",
   "language": "python",
   "name": "python3"
  },
  "language_info": {
   "codemirror_mode": {
    "name": "ipython",
    "version": 3
   },
   "file_extension": ".py",
   "mimetype": "text/x-python",
   "name": "python",
   "nbconvert_exporter": "python",
   "pygments_lexer": "ipython3",
   "version": "3.11.5"
  }
 },
 "nbformat": 4,
 "nbformat_minor": 5
}
